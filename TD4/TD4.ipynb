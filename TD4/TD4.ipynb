{
 "cells": [
  {
   "cell_type": "markdown",
   "metadata": {},
   "source": [
    "# MTH3302 : Méthodes probabilistes et statistiques pour l'I.A.\n",
    "\n",
    "Jonathan Jalbert<br/>\n",
    "Professeur adjoint au Département de mathématiques et de génie industriel<br/>\n",
    "Polytechnique Montréal<br/>\n",
    "\n",
    "\n",
    "# TD4 - Régression linéaire\n",
    "\n",
    "Ce TD concerne la régression linéaire (Chapitre 2 du cours). À la fin de ce TD, vous devriez être avoir été en mesure de :\n",
    "- Choisir un modèle sur la base de l'estimation ou de la prédiction.\n",
    "- Vérifier pour la présence de multicolinéarité.\n",
    "- Transformer les variables pour modéliser des relations non-linéaires.\n",
    "\n",
    "\n",
    "## Contexte : Poids des poissons\n",
    "\n",
    "Le fichier *fishweights.csv* contient les caractéristiques de 158 poissons péchés dans le lac Laengelmavesi en Finlande. Nous étudierons le poids (Weight en grammes) des poissons en fonction de variables explicatives suivantes :\n",
    "- l'espèce de poisson (species) ;\n",
    "- la longueur standard (StandardLength) ;\n",
    "- la longeur non standard  (NonStandardLength) ;\n",
    "- la longueur totale (TotalLength) ;\n",
    "- la hauteur (Height) ;\n",
    "- la largeur (Width).\n",
    "\n",
    "\n",
    "          ___/////___                  _\n",
    "         /           \\    ___          |\n",
    "       /\\             \\_ /  /          H\n",
    "     <   )            __)  \\           |\n",
    "       \\/_\\\\_________/   \\__\\          _\n",
    "\n",
    "     |------- SL -------|\n",
    "     |------- NSL ---------|\n",
    "     |------- TL ------------|"
   ]
  },
  {
   "cell_type": "code",
   "execution_count": null,
   "metadata": {},
   "outputs": [],
   "source": [
    "using CSV \n",
    "using DataFrames\n",
    "using Distributions\n",
    "using Gadfly\n",
    "using LinearAlgebra\n",
    "using Statistics"
   ]
  },
  {
   "cell_type": "markdown",
   "metadata": {},
   "source": [
    "## Chargement des données"
   ]
  },
  {
   "cell_type": "code",
   "execution_count": null,
   "metadata": {},
   "outputs": [],
   "source": [
    "data = CSV.read(\"fishweights.csv\")\n",
    "first(data,10)"
   ]
  },
  {
   "cell_type": "markdown",
   "metadata": {},
   "source": [
    "# Exercice 1 - Analyse exploratoire\n",
    "\n",
    "## a) Illustrez les poids en fonction des espèces de poisson\n",
    "\n",
    "**Note :** Avec Gadfly, la variable *x* peut être une variable catégorielle."
   ]
  },
  {
   "cell_type": "code",
   "execution_count": null,
   "metadata": {},
   "outputs": [],
   "source": []
  },
  {
   "cell_type": "markdown",
   "metadata": {},
   "source": [
    "## b) Illustrez les poids en fonction de la longeur standard et des espèces.\n",
    "\n",
    "**Suggestion :** Utilisez l'option *color* de Gadfly pour distinguer les différentes espèces."
   ]
  },
  {
   "cell_type": "code",
   "execution_count": null,
   "metadata": {},
   "outputs": [],
   "source": []
  },
  {
   "cell_type": "markdown",
   "metadata": {},
   "source": [
    "## c) Calculez le poids moyen pour chaque espèce ainsi que le nombre d'observations pour chaque espèce.\n",
    "\n",
    "La fonction `by()` permet d'effectuer rapidement ces tâches. Puisqu'elle n'est pas intuitive, je vous donne d'emblée la réponse. C'est une commande qui pourra vous être utile dans tout le cours."
   ]
  },
  {
   "cell_type": "code",
   "execution_count": null,
   "metadata": {},
   "outputs": [],
   "source": [
    "df = by(data, :Species, Weight=:Weight => mean, n=:Weight => length)\n",
    "sort!(df, :Weight)"
   ]
  },
  {
   "cell_type": "markdown",
   "metadata": {},
   "source": [
    "# Exercice 2 - Ajustement *vs* prédiction"
   ]
  },
  {
   "cell_type": "code",
   "execution_count": null,
   "metadata": {},
   "outputs": [],
   "source": [
    "\"\"\"\n",
    "    construct_structure(x::Vector{<:Real}, order::Int)\n",
    "\n",
    "Construction de la matrice de structure du modèle polynomial d'ordre `order` à partir du vecteur `x`.\n",
    "\"\"\"\n",
    "function construct_structure(x::Vector{<:Real}, order::Int)\n",
    "    \n",
    "    X = Array{Float64}(undef, length(x), order+1)\n",
    "    \n",
    "    for p in 0:order\n",
    "       X[:,p+1] = x.^p \n",
    "    end\n",
    "    \n",
    "    return X\n",
    "    \n",
    "end"
   ]
  },
  {
   "cell_type": "markdown",
   "metadata": {},
   "source": [
    "## a) Construction de l'ensemble d'entraînement et de validation pour les éperlans"
   ]
  },
  {
   "cell_type": "code",
   "execution_count": null,
   "metadata": {},
   "outputs": [],
   "source": [
    "eperlan = filter(row -> row.Species == \"Éperlan\", data)\n",
    "train = eperlan[1:2:end, :]\n",
    "validation = eperlan[2:2:end, :]"
   ]
  },
  {
   "cell_type": "markdown",
   "metadata": {},
   "source": [
    "## b) Modèle unidimensionnel\n",
    "\n",
    "1. Estimez la droite de régression avec les données de l'ensemble d'entraînement.\n",
    "2. Tracez la droite de régression ainsi que les points de l'ensemble d'entraînement.\n",
    "3. Ajoutez les points de validation sur le graphique avec une autre couleur.\n",
    "\n",
    "**Suggestion :** Utilisez la fonction `layer()` de Gadfly pour ajouter plusieurs couches à un graphique."
   ]
  },
  {
   "cell_type": "code",
   "execution_count": null,
   "metadata": {},
   "outputs": [],
   "source": []
  },
  {
   "cell_type": "markdown",
   "metadata": {},
   "source": [
    "## c) Modèle cubique\n",
    "\n",
    "1. Estimez les paramètres du modèle cubique en utilisant les données de l'ensemble d'entraînement.\n",
    "2. Tracez la courbe donnée par le modèle ainsi que les points de l'ensemble d'entraînement.\n",
    "3. Ajoutez les points de validation sur le graphique avec une autre couleur.\n",
    "\n",
    "**Suggestion :** Utilisez la fonction `construct_structure()` fournie pour construire la matrice de structure pour le modèle cubique avec `order=3`."
   ]
  },
  {
   "cell_type": "code",
   "execution_count": null,
   "metadata": {},
   "outputs": [],
   "source": []
  },
  {
   "cell_type": "markdown",
   "metadata": {},
   "source": [
    "## d) Modèle d'ordre 4\n",
    "\n",
    "1. Estimez les paramètres du modèle d'ordre 4 en utilisant les données de l'ensemble d'entraînement.\n",
    "2. Tracez la courbe donnée par le modèle ainsi que les points de l'ensemble d'entraînement.\n",
    "3. Ajoutez les points de validation sur le graphique avec une autre couleur.\n",
    "\n",
    "**Suggestion :** Utilisez la fonction `construct_structure()` fournie pour construire la matrice de structure pour le modèle cubique avec `order=4`."
   ]
  },
  {
   "cell_type": "code",
   "execution_count": null,
   "metadata": {},
   "outputs": [],
   "source": []
  },
  {
   "cell_type": "markdown",
   "metadata": {},
   "source": [
    "## e) Calcul de la qualité d'ajustement et de l'erreur de prédiction\n",
    "\n",
    "Pour les modèles d'ordre 0 à 6, calculez \n",
    "- le coefficient de détermination\n",
    "- le coefficient de détermination ajusté\n",
    "- l'erreur quadratique moyenne (MSE) sur l'échantillon de validation.\n",
    "\n",
    "**Suggestion :** Ajoutez une ligne au tableau `df` proposé pour chacun des ordre de modèle avec la fonction `push!()`.\n"
   ]
  },
  {
   "cell_type": "code",
   "execution_count": null,
   "metadata": {},
   "outputs": [],
   "source": [
    "df = DataFrame(Ordre = Int64[], R² = Float64[], R²_aj = Float64[], MSE = Float64[])"
   ]
  },
  {
   "cell_type": "markdown",
   "metadata": {},
   "source": [
    "## f) Sélection du meilleur modèle\n",
    "\n",
    "Selon vous, quel est le meilleur modèle ?"
   ]
  },
  {
   "cell_type": "markdown",
   "metadata": {},
   "source": []
  },
  {
   "cell_type": "markdown",
   "metadata": {},
   "source": [
    "# Exercice 3 - Poids des perches\n",
    "\n",
    "On sélectionne pour cet exercice que les perches."
   ]
  },
  {
   "cell_type": "code",
   "execution_count": null,
   "metadata": {},
   "outputs": [],
   "source": [
    "perche = filter(row -> row.Species == \"Perche\", data)\n",
    "n = size(perche,1)\n",
    "first(perche, 10)"
   ]
  },
  {
   "cell_type": "markdown",
   "metadata": {},
   "source": [
    "## a) Vérification quantitative de multicolinéarité.\n",
    "\n",
    "Calculez le facteur d'inflation de la variance VIF pour les variables explicatives de la perche. Déterminez s'il y a multicolinéarité."
   ]
  },
  {
   "cell_type": "code",
   "execution_count": null,
   "metadata": {},
   "outputs": [],
   "source": [
    "# Matrice de structure\n",
    "X = hcat(ones(n), convert(Array{Float64}, perche[:, 3:end]))"
   ]
  },
  {
   "cell_type": "code",
   "execution_count": null,
   "metadata": {},
   "outputs": [],
   "source": []
  },
  {
   "cell_type": "code",
   "execution_count": null,
   "metadata": {},
   "outputs": [],
   "source": []
  },
  {
   "cell_type": "markdown",
   "metadata": {},
   "source": [
    "## b) Vérification visuelle de la multicolinéarité\n",
    "\n",
    "Illustrer la :NonStandardLength en fonction de la :StandardLength. Est-ce que ça corrobore le fait que la multicolinéarité ait été détectée à la question précédente."
   ]
  },
  {
   "cell_type": "code",
   "execution_count": null,
   "metadata": {},
   "outputs": [],
   "source": []
  },
  {
   "cell_type": "markdown",
   "metadata": {},
   "source": [
    "## c)  Identification du meilleur modèle\n",
    "\n",
    "Puisqu'il y a présence de multicolinéarité entre toutes les variables, on cherche le meilleur modèle unidimensionnel.\n",
    "\n",
    "**Suggestion :** Transformez la variable d'intérêt pour trouver le meilleur modèle unidimensionnel."
   ]
  },
  {
   "cell_type": "code",
   "execution_count": null,
   "metadata": {},
   "outputs": [],
   "source": []
  },
  {
   "cell_type": "code",
   "execution_count": null,
   "metadata": {},
   "outputs": [],
   "source": []
  },
  {
   "cell_type": "markdown",
   "metadata": {},
   "source": [
    "## d) Vérification des hypothèses de la régression\n",
    "\n",
    "Vérifiez si les hypothèses 1 à 4 de la régression sont satisfaites. Pour ce faire, tracer les graphiques suivants :\n",
    "- le nuage des points {(ŷᵢ, eᵢ) : 1 ≤ i ≤ n} pour vérifier les hypothèses 1 et 2\n",
    "- la droite de Henry pour vérifier l'hypothèse 4.\n",
    "\n",
    "**Suggestion :** Vous pouvez utiliser la fonction `henryplot()` fournie pour tracer le diagramme quantile-quantile entre la loi normale et les résidus.\n"
   ]
  },
  {
   "cell_type": "code",
   "execution_count": null,
   "metadata": {},
   "outputs": [],
   "source": []
  },
  {
   "cell_type": "code",
   "execution_count": null,
   "metadata": {},
   "outputs": [],
   "source": []
  },
  {
   "cell_type": "code",
   "execution_count": null,
   "metadata": {},
   "outputs": [],
   "source": []
  },
  {
   "cell_type": "markdown",
   "metadata": {},
   "source": [
    "## e) Relation pour les poids originaux\n",
    "\n",
    "Tracez le nuage de points illutrants les poids originaux des perches en fonction votre variable explicative ainsi que la relation non linéaire obtenue.\n",
    "\n",
    "**Suggestion :** Utilisez la fonction `layer()` pour superposer plusieurs couches sur un graphique."
   ]
  },
  {
   "cell_type": "code",
   "execution_count": null,
   "metadata": {},
   "outputs": [],
   "source": []
  },
  {
   "cell_type": "code",
   "execution_count": null,
   "metadata": {},
   "outputs": [],
   "source": []
  },
  {
   "cell_type": "code",
   "execution_count": null,
   "metadata": {},
   "outputs": [],
   "source": []
  }
 ],
 "metadata": {
  "@webio": {
   "lastCommId": null,
   "lastKernelId": null
  },
  "kernelspec": {
   "display_name": "Julia 1.5.1",
   "language": "julia",
   "name": "julia-1.5"
  },
  "language_info": {
   "file_extension": ".jl",
   "mimetype": "application/julia",
   "name": "julia",
   "version": "1.5.1"
  }
 },
 "nbformat": 4,
 "nbformat_minor": 2
}
