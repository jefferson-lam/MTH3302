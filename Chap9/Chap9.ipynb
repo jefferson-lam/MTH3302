{
 "cells": [
  {
   "cell_type": "markdown",
   "metadata": {},
   "source": [
    "\n",
    "# MTH3302 : Méthodes probabilistes et statistiques pour l'I.A.\n",
    "\n",
    "Jonathan Jalbert<br/>\n",
    "Professeur adjoint au Département de mathématiques et de génie industriel<br/>\n",
    "Polytechnique Montréal<br/>\n",
    "\n",
    "\n",
    "# Chapitre 9 : Classification bayésienne naïve\n",
    "\n",
    "### Description\n",
    "\n",
    "La théorie de ce chapitre est illustrée pour classer les messages électroniques en courriels et pourriels.\n",
    "\n",
    "### Données\n",
    "\n",
    "Les données exploitées dans ce chapitre correspondents aux messages électroniques authentiques d'un employé de la compagnie Enron reçus entre le 28 décembre 2003 et le 6 septembre 2005. Vous pouvez télécharger le jeux de données (*Enron1.zip*) compressé à partir du site web du cours. Le fichier doit être décompressé dans le répertoire courant courant de votre calepin Jupyter. \n",
    "\n",
    "Notez que les messages électroniques de 158 employés de la compagnie Enron ont été récupérés par la Federal Energy Regulatory Commission pendant la commission d'enquête qui a eu lieu après l'effondrement de la compagnie. Dans ce chapitre, nous n'utilisons que les messages d'un seul employé. Vous pouvez récupérer beaucoup plus de données sur Enron entier à suivante  https://www.cs.cmu.edu/~enron/."
   ]
  },
  {
   "cell_type": "markdown",
   "metadata": {},
   "source": [
    "# Chargement des librairies"
   ]
  },
  {
   "cell_type": "code",
   "execution_count": null,
   "metadata": {},
   "outputs": [],
   "source": [
    "using DataFrames, Distributions, Gadfly, MLBase, Random\n",
    "Random.seed!(3302);"
   ]
  },
  {
   "cell_type": "code",
   "execution_count": null,
   "metadata": {},
   "outputs": [],
   "source": [
    "# using Cairo, Fontconfig"
   ]
  },
  {
   "cell_type": "markdown",
   "metadata": {},
   "source": [
    "# Chargement des données\n",
    "\n",
    "Le code de cette section permet de traiter les fichiers textes correspondant à tous les messages électroniques de l'utilisateurs. Les messages électroniques se trouvent dans les dossier *ham/* et *spam/* de l'utilisateur *Enron1*."
   ]
  },
  {
   "cell_type": "code",
   "execution_count": null,
   "metadata": {},
   "outputs": [],
   "source": [
    "# Récupération des noms de fichier de tous les hams\n",
    "filesdir = \"enron1/ham/\"\n",
    "filename_ham = filesdir.*readdir(filesdir);"
   ]
  },
  {
   "cell_type": "code",
   "execution_count": null,
   "metadata": {},
   "outputs": [],
   "source": [
    "# Récupération des noms de fichier de tous les spams\n",
    "filesdir = \"enron1/spam/\"\n",
    "filename_spam = filesdir.*readdir(filesdir);"
   ]
  },
  {
   "cell_type": "markdown",
   "metadata": {},
   "source": [
    "### Partitionnement des données en ensemble d'entraînement et de validation\n",
    "\n",
    "Le 2/3 des données constituent l'ensemble d'entraînement et le 1/3 restant l'ensemble de validation."
   ]
  },
  {
   "cell_type": "code",
   "execution_count": null,
   "metadata": {},
   "outputs": [],
   "source": [
    "# Partitionnement des courriels\n",
    "ham_train = sample(filename_ham, round(Int, 2/3*length(filename_ham)), replace=false, ordered=true)\n",
    "ham_valid = setdiff(filename_ham, ham_train);"
   ]
  },
  {
   "cell_type": "code",
   "execution_count": null,
   "metadata": {},
   "outputs": [],
   "source": [
    "# Partitionnement des pourriels\n",
    "spam_train = sample(filename_spam, round(Int, 2/3*length(filename_spam)), replace=false, ordered=true)\n",
    "spam_valid = setdiff(filename_spam, spam_train);"
   ]
  },
  {
   "cell_type": "code",
   "execution_count": null,
   "metadata": {},
   "outputs": [],
   "source": [
    "# Vecteur des solutions de l'ensemble de validation (0 = pourriel, 1 = courriel)\n",
    "Z = vcat(ones(Int64, length(ham_valid)), zeros(Int64, length(spam_valid)));"
   ]
  },
  {
   "cell_type": "code",
   "execution_count": null,
   "metadata": {},
   "outputs": [],
   "source": [
    "println(\"L'échantillon d'entraînement est composé de $(length(ham_train)) courriels et $(length(spam_train)) pourriels.\")\n",
    "println(\"L'échantillon de validation est composé de $(length(ham_valid)) courriels et $(length(spam_valid)) pourriels.\")"
   ]
  },
  {
   "cell_type": "markdown",
   "metadata": {},
   "source": [
    "# Extraction des occurrences des mots\n",
    "\n",
    "### Fonctions permettants le traitement des fichiers textes pour la classifications bayésienne naïve."
   ]
  },
  {
   "cell_type": "code",
   "execution_count": null,
   "metadata": {},
   "outputs": [],
   "source": [
    "\"\"\"\n",
    "    wordlisting(filename::String)\n",
    "\n",
    "Extrait la liste des mots contenus dans le fichier texte `filename`.\n",
    "\n",
    "### Détails\n",
    "Ne dénombre pas le nombre d'occurrence des mots dans un fichier. N'est pas sensible aux majuscules ni aux minuscules.\n",
    "\"\"\"\n",
    "function wordlisting(filename::String)\n",
    "    \n",
    "    f = read(filename, String)\n",
    "    text = replace(f, r\"[0123456789]\" => \"\")\n",
    "    words = split(text, r\"\\W+\")\n",
    "    filter!(x -> length(x) > 1, words)\n",
    "    wordlist = unique(words)\n",
    "    \n",
    "end\n",
    "\n",
    "\"\"\"\n",
    "    wordcounting(wordlist::Vector{<:AbstractString})\n",
    "\n",
    "Dénombre les occurrences des mots dans la liste `wordlist`. \n",
    "\n",
    "### Détails\n",
    "Retourne un dictionnaire ayant comme clé le mot, et la valeur l'occurrence du mot.\n",
    "\"\"\"\n",
    "function wordcounting(wordlist::Vector{<:AbstractString})\n",
    "\n",
    "    wordcounts = Dict{String,Int64}()\n",
    "\n",
    "    for word in wordlist\n",
    "        wordcounts[word]=get(wordcounts, word, 0) + 1\n",
    "    end\n",
    "    \n",
    "    return wordcounts\n",
    "    \n",
    "end"
   ]
  },
  {
   "cell_type": "markdown",
   "metadata": {},
   "source": [
    "### Extraction de l'occurrence des mots des courriels"
   ]
  },
  {
   "cell_type": "code",
   "execution_count": null,
   "metadata": {},
   "outputs": [],
   "source": [
    "ham_wordlist = wordlisting.(ham_train)\n",
    "ham_wordcounts = wordcounting(vcat(ham_wordlist...))"
   ]
  },
  {
   "cell_type": "markdown",
   "metadata": {},
   "source": [
    "### Extraction de l'occurrence des mots des courriels"
   ]
  },
  {
   "cell_type": "code",
   "execution_count": null,
   "metadata": {},
   "outputs": [],
   "source": [
    "spam_wordlist = wordlisting.(spam_train)\n",
    "spam_wordcounts = wordcounting(vcat(spam_wordlist...))"
   ]
  },
  {
   "cell_type": "markdown",
   "metadata": {},
   "source": [
    "## 9.1 Modèle marginal\n",
    "\n",
    "### Loi *a priori*"
   ]
  },
  {
   "cell_type": "code",
   "execution_count": null,
   "metadata": {},
   "outputs": [],
   "source": [
    "α, β = (1,1)"
   ]
  },
  {
   "cell_type": "markdown",
   "metadata": {},
   "source": [
    "### Dénombrement des courriels et des pourriels de l'ensemble d'entraînement"
   ]
  },
  {
   "cell_type": "code",
   "execution_count": null,
   "metadata": {},
   "outputs": [],
   "source": [
    "# nombre de courriels dans l'ensemble d'entraînement\n",
    "n₀ = length(spam_train)\n",
    "\n",
    "# nombre de pourriels dans l'ensemble d'entraînement\n",
    "n₁ = length(ham_train)\n",
    "\n",
    "# taille de l'échantillon d'entraînement\n",
    "n = n₀ + n₁"
   ]
  },
  {
   "cell_type": "markdown",
   "metadata": {},
   "source": [
    "### Loi *a posteriori*"
   ]
  },
  {
   "cell_type": "code",
   "execution_count": null,
   "metadata": {},
   "outputs": [],
   "source": [
    "fd = Beta(α+n₁, β+n₀)\n",
    "fig = plot(Guide.xlabel(\"θ\"), Guide.ylabel(\"f(θ)\"), Guide.colorkey(title=\"\"),\n",
    "        layer(x -> pdf(Beta(α, β),x), 0, 1, color=[\"loi a priori\"]),\n",
    "        layer(x -> pdf(fd, x), .0, 1, color=[\"loi a posteriori\"])\n",
    "        )\n",
    "# draw(PDF(\"posterior.pdf\"), fig)"
   ]
  },
  {
   "cell_type": "markdown",
   "metadata": {},
   "source": [
    "### Probabilité prédictive"
   ]
  },
  {
   "cell_type": "code",
   "execution_count": null,
   "metadata": {},
   "outputs": [],
   "source": [
    "# Probabilité que le nouveau message soit un courriel \n",
    "p₁ = (α + n₁)/(α + β + n)"
   ]
  },
  {
   "cell_type": "code",
   "execution_count": null,
   "metadata": {},
   "outputs": [],
   "source": [
    "# Probabilité que le nouveau message soit un pourriel \n",
    "p₀ = (β + n₀)/(α + β + n)"
   ]
  },
  {
   "cell_type": "markdown",
   "metadata": {},
   "source": [
    "### Prédiction sur l'ensemble de validation"
   ]
  },
  {
   "cell_type": "code",
   "execution_count": null,
   "metadata": {},
   "outputs": [],
   "source": [
    "# Tous les nouveaux messages sont classés comme courriels avec le modèle marginal\n",
    "Ẑ = ones(Int64, length(Z))\n",
    "\n",
    "r = roc(Z, Ẑ)"
   ]
  },
  {
   "cell_type": "code",
   "execution_count": null,
   "metadata": {},
   "outputs": [],
   "source": [
    "println(\"Sur les $(r.p+r.n) messages de l'ensemble de test,\")\n",
    "println(\"\")\n",
    "println(\"- on classe $(r.tp) courriels comme courriels ;\")\n",
    "println(\"- on classe $(r.tn) pourriels comme pourriels ;\")\n",
    "println(\"\")\n",
    "println(\"- on classe $(r.fp) pourriels comme courriels ;\")\n",
    "println(\"- on classe $(r.fn) courriels comme pourriels ;\")\n",
    "println(\"\")\n",
    "println(\"- le score F₁ du classement est de \", round(f1score(r),digits=2), \".\")"
   ]
  },
  {
   "cell_type": "markdown",
   "metadata": {},
   "source": [
    "## 9.2 Modèle à une variable explicative\n",
    "\n",
    "### Loi *a priori*"
   ]
  },
  {
   "cell_type": "code",
   "execution_count": null,
   "metadata": {},
   "outputs": [],
   "source": [
    "α₀₁, β₀₁ = (1,1)\n",
    "α₁₁, β₁₁ = (1,1)"
   ]
  },
  {
   "cell_type": "markdown",
   "metadata": {},
   "source": [
    "### Dénombrement des courriels et des pourriels contenant le mot *http*"
   ]
  },
  {
   "cell_type": "code",
   "execution_count": null,
   "metadata": {},
   "outputs": [],
   "source": [
    "word1 = \"http\"\n",
    "\n",
    "n₀₁ = spam_wordcounts[word1]\n",
    "n₁₁ = ham_wordcounts[word1]\n",
    "\n",
    "println(\"Le mot \", word1, \" est présent dans \", n₀₁, \" pourriels et \", n₁₁, \" courriels.\")\n"
   ]
  },
  {
   "cell_type": "markdown",
   "metadata": {},
   "source": [
    "### Probabilités prédictives\n",
    "\n",
    "#### (i) La probabilité que le message soit un courriel sachant qu'il contient le mot *http*."
   ]
  },
  {
   "cell_type": "code",
   "execution_count": null,
   "metadata": {},
   "outputs": [],
   "source": [
    "p₀ = (β + n₀)/(α + β + n) * (α₀₁ + n₀₁)/(α₀₁ + β₀₁ + n₀)\n",
    "p₁ = (α + n₁)/(α + β + n ) * (α₁₁ + n₁₁)/(α₁₁ + β₁₁ +n₁)\n",
    "\n",
    "# constante de normalisation\n",
    "c = p₀ + p₁\n",
    "p₀ = p₀/c\n",
    "p₁ = p₁/c\n",
    "\n",
    "println(\"Si le mot http est présent dans le message, il y a une prob de $p₁ que ce soit un courriel.\")"
   ]
  },
  {
   "cell_type": "markdown",
   "metadata": {},
   "source": [
    "#### (ii) La probabilité que le message soit un courriel sachant qu'il ne contient pas le mot *http*."
   ]
  },
  {
   "cell_type": "code",
   "execution_count": null,
   "metadata": {},
   "outputs": [],
   "source": [
    "p₀ = (β + n₀)/(α + β + n) * (β₀₁ + n₀ - n₀₁)/(α₀₁ + β₀₁ + n₀)\n",
    "p₁ = (α + n₁)/(α + β + n ) * (β₁₁ + n₁ - n₁₁)/(α₁₁ + β₁₁ + n₁)\n",
    "\n",
    "# constante de normalisation\n",
    "c = p₀ + p₁\n",
    "p₀ = p₀/c\n",
    "p₁ = p₁/c\n",
    "\n",
    "println(\"Si le mot http n'est pas présent dans le message, il y a une prob de $p₁ que ce soit un courriel.\")"
   ]
  },
  {
   "cell_type": "markdown",
   "metadata": {},
   "source": [
    "### Prédiction sur l'ensemble de validation"
   ]
  },
  {
   "cell_type": "code",
   "execution_count": null,
   "metadata": {},
   "outputs": [],
   "source": [
    "Ẑ = Int64[]\n",
    "\n",
    "for filename in ham_valid\n",
    "      \n",
    "    wordlist = wordlisting(filename)\n",
    "    x̃ = any(wordlist .== word1)\n",
    "    \n",
    "    if x̃\n",
    "        push!(Ẑ, 0)\n",
    "    else\n",
    "        push!(Ẑ, 1)\n",
    "    end\n",
    " \n",
    "end\n",
    "\n",
    "for filename in spam_valid\n",
    "      \n",
    "    wordlist = wordlisting(filename)\n",
    "    x̃ = any(wordlist .== word1)\n",
    "    \n",
    "    if x̃\n",
    "        push!(Ẑ, 0)\n",
    "    else\n",
    "        push!(Ẑ, 1)\n",
    "    end\n",
    " \n",
    "end\n",
    "\n",
    "r = roc(Z, Ẑ)"
   ]
  },
  {
   "cell_type": "code",
   "execution_count": null,
   "metadata": {},
   "outputs": [],
   "source": [
    "println(\"Sur les $(r.p+r.n) messages de l'ensemble de test,\")\n",
    "println(\"\")\n",
    "println(\"- on classe $(r.tp) courriels comme courriels ;\")\n",
    "println(\"- on classe $(r.tn) pourriels comme pourriels ;\")\n",
    "println(\"\")\n",
    "println(\"- on classe $(r.fp) pourriels comme courriels ;\")\n",
    "println(\"- on classe $(r.fn) courriels comme pourriels ;\")\n",
    "println(\"\")\n",
    "println(\"- le score F₁ du classement est de \", round(f1score(r),digits=2), \".\")"
   ]
  },
  {
   "cell_type": "markdown",
   "metadata": {},
   "source": [
    "## 9.3 Modèle à deux variables\n",
    "\n",
    "### Loi *a priori*"
   ]
  },
  {
   "cell_type": "code",
   "execution_count": null,
   "metadata": {},
   "outputs": [],
   "source": [
    "α₀₂, β₀₂ = (1,1)\n",
    "α₁₂, β₁₂ = (1,1)"
   ]
  },
  {
   "cell_type": "markdown",
   "metadata": {},
   "source": [
    "### Dénombrement des courriels et des pourriels contenant le mot *enron*"
   ]
  },
  {
   "cell_type": "code",
   "execution_count": null,
   "metadata": {},
   "outputs": [],
   "source": [
    "word2 = \"enron\"\n",
    "\n",
    "if haskey(spam_wordcounts, word2)\n",
    "    n₀₂ = spam_wordcounts[word2]\n",
    "else\n",
    "    n₀₂ = 0\n",
    "end\n",
    "\n",
    "if haskey(ham_wordcounts, word2)\n",
    "    n₁₂ = ham_wordcounts[word2]\n",
    "else\n",
    "    n₁₂ = 0\n",
    "end\n",
    "\n",
    "\n",
    "println(\"Le mot \", word2, \" est présent dans \", n₀₂, \" pourriels et \", n₁₂, \" courriels.\")"
   ]
  },
  {
   "cell_type": "markdown",
   "metadata": {},
   "source": [
    "### Probabilités prédictives\n",
    "\n",
    "#### (i) La probabilité que le message soit un courriel sachant qu'il contient les mot *http* et *enron*."
   ]
  },
  {
   "cell_type": "code",
   "execution_count": null,
   "metadata": {},
   "outputs": [],
   "source": [
    "p₀ = (β + n₀)/(α + β + n) * (α₀₁ + n₀₁)/(α₀₁ + β₀₁ + n₀) * (α₀₂ + n₀₂)/(α₀₂ + β₀₂ + n₀)\n",
    "p₁ = (α + n₁)/(α + β + n) * (α₁₁ + n₁₁)/(α₁₁ + β₁₁ + n₁) * (α₁₂ + n₁₂)/(α₁₂ + β₁₂ + n₁)\n",
    "\n",
    "# constante de normalisation\n",
    "c = p₀ + p₁\n",
    "p₀ = p₀/c\n",
    "p₁ = p₁/c\n",
    "\n",
    "println(\"Si les mots $word1 et $word2 sont présents dans le message, il y a une prob de $p₁ que ce soit un courriel.\")"
   ]
  },
  {
   "cell_type": "markdown",
   "metadata": {},
   "source": [
    "#### (ii) La probabilité que le message soit un courriel sachant qu'il contient le mot *http* mais ne contient pas le mot *enron*."
   ]
  },
  {
   "cell_type": "code",
   "execution_count": null,
   "metadata": {},
   "outputs": [],
   "source": [
    "p₀ = (β + n₀)/(α + β + n) * (α₀₁ + n₀₁)/(α₀₁ + β₀₁ + n₀) * (β₀₂ + n₀ - n₀₂)/(α₀₂ + β₀₂ + n₀)\n",
    "p₁ = (α + n₁)/(α + β + n) * (α₁₁ + n₁₁)/(α₁₁ + β₁₁ + n₁) * (β₁₂ + n₁ - n₁₂)/(α₁₂ + β₁₂ + n₁)\n",
    "\n",
    "# constante de normalisation\n",
    "c = p₀ + p₁\n",
    "p₀ = p₀/c\n",
    "p₁ = p₁/c\n",
    "\n",
    "println(\"Si le mot $word1 est présent mais $word2 est absent, il y a une prob de $p₁ que ce soit un courriel.\")"
   ]
  },
  {
   "cell_type": "markdown",
   "metadata": {},
   "source": [
    "#### (iii) La probabilité que le message soit un courriel sachant qu'il ne contient pas le mot *http* mais contient le mot *enron*."
   ]
  },
  {
   "cell_type": "code",
   "execution_count": null,
   "metadata": {},
   "outputs": [],
   "source": [
    "p₀ = (β + n₀)/(α + β + n) * (β₀₁ + n₀ - n₀₁)/(α₀₁ + β₀₁ + n₀) * (α₀₂ + n₀₂)/(α₀₂ + β₀₂ + n₀)\n",
    "p₁ = (α + n₁)/(α + β + n) * (β₁₁ + n₁ - n₁₁)/(α₁₁ + β₁₁ + n₁) * (α₁₂ + n₁₂)/(α₁₂ + β₁₂ + n₁)\n",
    "\n",
    "# constante de normalisation\n",
    "c = p₀ + p₁\n",
    "p₀ = p₀/c\n",
    "p₁ = p₁/c\n",
    "\n",
    "println(\"Si le mot $word1 est présent mais $word2 est absent, il y a une prob de $p₁ que ce soit un courriel.\")"
   ]
  },
  {
   "cell_type": "markdown",
   "metadata": {},
   "source": [
    "#### (iv) La probabilité que le message soit un courriel sachant qu'il ne contient pas les mot *http* et *enron*."
   ]
  },
  {
   "cell_type": "code",
   "execution_count": null,
   "metadata": {},
   "outputs": [],
   "source": [
    "p₀ = (β + n₀)/(α + β + n) * (β₀₁ + n₀ - n₀₁)/(α₀₁ + β₀₁ + n₀) * (β₀₂ + n₀ - n₀₂)/(α₀₂ + β₀₂ + n₀)\n",
    "p₁ = (α + n₁)/(α + β + n) * (β₁₁ + n₁ - n₁₁)/(α₁₁ + β₁₁ + n₁) * (β₁₂ + n₁ - n₁₂)/(α₁₂ + β₁₂ + n₁)\n",
    "\n",
    "\n",
    "# constante de normalisation\n",
    "c = p₀ + p₁\n",
    "p₀ = p₀/c\n",
    "p₁ = p₁/c\n",
    "\n",
    "println(\"Si les mots $word1 et $word2 ne sont pas présents dans le message, il y a une prob de $p₁ que ce soit un courriel.\")"
   ]
  },
  {
   "cell_type": "markdown",
   "metadata": {},
   "source": [
    "### Prédiction sur l'ensemble de validation"
   ]
  },
  {
   "cell_type": "code",
   "execution_count": null,
   "metadata": {},
   "outputs": [],
   "source": [
    "Ẑ = Int64[]\n",
    "\n",
    "for filename in ham_valid\n",
    "      \n",
    "    wordlist = wordlisting(filename)\n",
    "    x̃₁ = any(wordlist .== word1)\n",
    "    x̃₂ = any(wordlist .== word2)\n",
    "    \n",
    "    if x̃₁ && !x̃₂\n",
    "        push!(Ẑ, 0)\n",
    "    else\n",
    "        push!(Ẑ, 1)\n",
    "    end\n",
    " \n",
    "end\n",
    "\n",
    "for filename in spam_valid\n",
    "      \n",
    "    wordlist = wordlisting(filename)\n",
    "    x̃₁ = any(wordlist .== word1)\n",
    "    x̃₂ = any(wordlist .== word2)\n",
    "    \n",
    "    if x̃₁ && !x̃₂\n",
    "        push!(Ẑ, 0)\n",
    "    else\n",
    "        push!(Ẑ, 1)\n",
    "    end\n",
    " \n",
    "end\n",
    "\n",
    "r = roc(Z, Ẑ)"
   ]
  },
  {
   "cell_type": "code",
   "execution_count": null,
   "metadata": {},
   "outputs": [],
   "source": [
    "println(\"Sur les $(r.p+r.n) messages de l'ensemble de test,\")\n",
    "println(\"\")\n",
    "println(\"- on classe $(r.tp) courriels comme courriels ;\")\n",
    "println(\"- on classe $(r.tn) pourriels comme pourriels ;\")\n",
    "println(\"\")\n",
    "println(\"- on classe $(r.fp) pourriels comme courriels ;\")\n",
    "println(\"- on classe $(r.fn) courriels comme pourriels ;\")\n",
    "println(\"\")\n",
    "println(\"- le score F₁ du classement est de \", round(f1score(r),digits=2), \".\")"
   ]
  },
  {
   "cell_type": "code",
   "execution_count": null,
   "metadata": {},
   "outputs": [],
   "source": []
  },
  {
   "cell_type": "code",
   "execution_count": null,
   "metadata": {},
   "outputs": [],
   "source": []
  }
 ],
 "metadata": {
  "@webio": {
   "lastCommId": null,
   "lastKernelId": null
  },
  "kernelspec": {
   "display_name": "Julia 1.5.3",
   "language": "julia",
   "name": "julia-1.5"
  },
  "language_info": {
   "file_extension": ".jl",
   "mimetype": "application/julia",
   "name": "julia",
   "version": "1.5.3"
  }
 },
 "nbformat": 4,
 "nbformat_minor": 2
}
