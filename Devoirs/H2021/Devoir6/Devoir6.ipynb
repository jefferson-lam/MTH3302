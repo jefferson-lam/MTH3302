{
 "cells": [
  {
   "cell_type": "markdown",
   "metadata": {},
   "source": [
    "# MTH3302 : Méthodes probabilistes et statistiques pour l'I.A.\n",
    "\n",
    "Jonathan Jalbert<br/>\n",
    "Professeur adjoint au Département de mathématiques et de génie industriel<br/>\n",
    "Polytechnique Montréal<br/>\n",
    "\n",
    "# Devoir 6 - Régression bayésienne ( 15 points )\n",
    "\n",
    "Le devoir concerne les notions de la régression linéaire bayésienne vues au Chapitre 7 du cours. \n",
    "\n",
    "## Devoir effectué par\n",
    "\n",
    "NOM, PRÉNOM - MATRICULE\n",
    "\n",
    "NOM, PRÉNOM - MATRICULE\n",
    "\n",
    "**Déclaration d’intégrité relative au plagiat**\n",
    "\n",
    "Nous certifions sur l’honneur :\n",
    "- Que les résultats décrits dans ce rapport sont l’aboutissement de notre travail.\n",
    "- Que nous sommes les auteurs de ce rapport.\n",
    "- Que nous n'avons pas utilisé des sources ou résultats tiers sans clairement les citer et les référencer selon les règles bibliographiques préconisées.\n",
    "\n",
    "Nous déclarons que ce travail ne peut être soupçonné de plagiat.\n",
    "\n",
    "\n",
    "\n",
    "# Contexte : Le valeur des diamants en fonction de leurs caractéristiques\n",
    "\n",
    "Dans ce devoir, on s'intéresse à la valeur des diamants en fonctions de plusieurs caractéristiques phyiques. Le jeux de données contient les variables suivantes :\n",
    "\n",
    "- Price : le prix du diamant en dollars américains\n",
    "- Carat : le poids du diamant\n",
    "- X : la longueur du diamant\n",
    "- Y : la largeur du diamant\n",
    "- Z : la profondeur du diamant\n",
    "- Depth : la profondeur realtive du diamant ( z / mean(x, y) )\n",
    "- Table : la largeur du sommet relativement relativement à la plus grande largeur\n",
    "\n",
    "\n",
    "# Consignes\n",
    "\n",
    "- Le devoir doit être remis sur Moodle **avant 23h59 le mardi 17 novembre 2020.** Les retards ne seront pas tolérés car le solutionnaire sera publié dès mercredi.\n",
    "- Le devoir a une pondération de 7.5%.\n",
    "- Écrivez vos noms et vos matricules dans l'espace prévu à cet effet de cette cellule.\n",
    "- Vous pouvez compléter le devoir en équipe de deux personnes. Dans ce cas, un seul fichier par équipe doit être remis. Pour vous aider à trouver un coéquipier, le canal de discussion *#trouver_un_coéquipier* a été créé sur Slack.\n",
    "- Le devoir doit être complété dans le présent calepin Jupyter en ajoutant autant de cellules de texte et de code que nécessaires. Vous remettrez ce fichier en format *.ipynb*. Le nom du fichier doit être *matricule1_matricule2_devoir2.ipynb*.\n",
    "- N'utilisez que les librairies introduites à la cellule suivante.\n",
    "\n",
    "## Chargement des librairies"
   ]
  },
  {
   "cell_type": "code",
   "execution_count": null,
   "metadata": {},
   "outputs": [],
   "source": [
    "using CSV              # Pour la manipulation des fichiers CSV\n",
    "using DataFrames       # Pour l'utilisation des DataFrame\n",
    "using Distributions    # Pour l'utilisation des lois de probabilités\n",
    "using Gadfly           # Pour la création de figures\n",
    "using LinearAlgebra    # Pour l'utilisation de fonctions d'algèbre linéaire\n",
    "import Random          # Pour l'utilisation des générateurs de nombres aléatoires\n",
    "using Statistics       # Pour l'utilisation de fonctions statistiques de bases  \n",
    "import StatsBase       # Pour la standardisation des variables"
   ]
  },
  {
   "cell_type": "markdown",
   "metadata": {},
   "source": [
    "## Chargement des données\n",
    "\n",
    "On prend la racine cubique du prix pour linéariser la relation"
   ]
  },
  {
   "cell_type": "code",
   "execution_count": null,
   "metadata": {},
   "outputs": [],
   "source": [
    "data = CSV.read(\"diamondprices.csv\", DataFrame)\n",
    "data[!, :Price] = data[:,:Price].^(1/3)\n",
    "first(data, 5)"
   ]
  },
  {
   "cell_type": "markdown",
   "metadata": {},
   "source": [
    "## Partitionnement du jeu de données en ensemble d'entraînement et de validation"
   ]
  },
  {
   "cell_type": "code",
   "execution_count": null,
   "metadata": {},
   "outputs": [],
   "source": [
    "Random.seed!(3302)\n",
    "\n",
    "ntrain = round(Int, .8*nrow(data))\n",
    "\n",
    "train_id = sample(1:nrow(data), ntrain, replace=false, ordered=true)\n",
    "valid_id = setdiff(1:nrow(data), train_id)\n",
    "\n",
    "train = data[train_id, :]\n",
    "valid = data[valid_id, :]"
   ]
  },
  {
   "cell_type": "markdown",
   "metadata": {},
   "source": [
    "## Standardisation des variables de l'ensemble d'entraînement\n",
    "\n",
    "Une fois les variables standardisées, l'ordonnée à l'origine n'est plus nécessaire."
   ]
  },
  {
   "cell_type": "code",
   "execution_count": null,
   "metadata": {},
   "outputs": [],
   "source": [
    "# Estimation des paramètres de la standardisation\n",
    "ty = StatsBase.fit(StatsBase.ZScoreTransform, train.Price)\n",
    "\n",
    "# Standardisation des variables\n",
    "y = StatsBase.transform(ty, train.Price)\n",
    "\n",
    "# Estimation des paramètres de la standardisation\n",
    "tx = StatsBase.fit(StatsBase.ZScoreTransform, Matrix{Float64}(train[:,2:end]), dims=1)\n",
    "\n",
    "# Standardisation des variables\n",
    "X = StatsBase.transform(tx, Matrix{Float64}(train[:,2:end]));"
   ]
  },
  {
   "cell_type": "markdown",
   "metadata": {},
   "source": [
    "# Exercice 1 : Loi *a priori* non informative\n",
    "\n",
    "### (a) Y a-t-il présence de multicolinéarité ? ( 3 points )\n",
    "\n",
    "Si les 6 variables explicatives (:Carat, :X, :Y, :Z, :Depth, :Table) sont utilisées pour prédire la valeur des diamants (:Price), y a-t-il présence de multicolinéarité ?\n",
    "\n",
    "Justifiez votre réponse."
   ]
  },
  {
   "cell_type": "code",
   "execution_count": null,
   "metadata": {},
   "outputs": [],
   "source": []
  },
  {
   "cell_type": "markdown",
   "metadata": {},
   "source": [
    "### (b) Calculez un intervalle de crédibilité pour le coeffifient correspondant aux poids (:Carats) (2 points).\n",
    "\n",
    "Calculez cet intervalle lorsque les 6 variables explicatives sont utilisées pour prédire la valeur des diamants. Utilisez le seuil de α = 5%."
   ]
  },
  {
   "cell_type": "code",
   "execution_count": null,
   "metadata": {},
   "outputs": [],
   "source": []
  },
  {
   "cell_type": "markdown",
   "metadata": {},
   "source": [
    "### (c) Déterminez si le poids (en carats) a un pouvoir prédictif significatif sur le prix des diamants (2 points).\n",
    "\n",
    "Utilisez le seuil de α = 5%. Prenez en compte votre réponse de 1 (a)."
   ]
  },
  {
   "cell_type": "code",
   "execution_count": null,
   "metadata": {},
   "outputs": [],
   "source": []
  },
  {
   "cell_type": "markdown",
   "metadata": {},
   "source": [
    "# Exercice 2 : Régression ridge\n",
    "\n",
    "Utilisez les six variables explicatives pour modéliser la valeur des diamants mais, cette fois-ci, en utilisant le modèle de la régression ridge.\n",
    "\n",
    "### (a) Spécifier l'hyperparamètre λ en minimisant le rmse sur l'échantillon de validation (3 points).\n"
   ]
  },
  {
   "cell_type": "code",
   "execution_count": null,
   "metadata": {},
   "outputs": [],
   "source": []
  },
  {
   "cell_type": "code",
   "execution_count": null,
   "metadata": {},
   "outputs": [],
   "source": []
  },
  {
   "cell_type": "code",
   "execution_count": null,
   "metadata": {},
   "outputs": [],
   "source": []
  },
  {
   "cell_type": "markdown",
   "metadata": {},
   "source": [
    "### (b) Comparer les estimations ridges avec les estimations classiques que vous auriez obtenues avec la méthode des moindres carrés (3 points)\n",
    "\n",
    "Par exemple : Quelles variables sont les plus importantes ? Est-ce que les effets des variables changent ? Si oui, pourquoi ? Etc."
   ]
  },
  {
   "cell_type": "code",
   "execution_count": null,
   "metadata": {},
   "outputs": [],
   "source": []
  },
  {
   "cell_type": "markdown",
   "metadata": {},
   "source": [
    "### (c) Calculez un intervalle de crédibilité pour le coefficient de régression associé à la profondeur (:Z) (1 point).\n",
    "\n",
    "Utilisez le seuil de α = 5%."
   ]
  },
  {
   "cell_type": "code",
   "execution_count": null,
   "metadata": {},
   "outputs": [],
   "source": []
  },
  {
   "cell_type": "markdown",
   "metadata": {},
   "source": [
    "### (d) Déterminez si la profondeur possède une influence significative sur la valeur des diamants (1 point).\n",
    "\n",
    "Prenez en compte le fait qu'il y ait multicolinéarité ou pas. Utilisez le seuil de α = 5%."
   ]
  },
  {
   "cell_type": "code",
   "execution_count": null,
   "metadata": {},
   "outputs": [],
   "source": []
  },
  {
   "cell_type": "code",
   "execution_count": null,
   "metadata": {},
   "outputs": [],
   "source": []
  }
 ],
 "metadata": {
  "@webio": {
   "lastCommId": null,
   "lastKernelId": null
  },
  "kernelspec": {
   "display_name": "Julia 1.5.3",
   "language": "julia",
   "name": "julia-1.5"
  },
  "language_info": {
   "file_extension": ".jl",
   "mimetype": "application/julia",
   "name": "julia",
   "version": "1.5.3"
  }
 },
 "nbformat": 4,
 "nbformat_minor": 2
}
