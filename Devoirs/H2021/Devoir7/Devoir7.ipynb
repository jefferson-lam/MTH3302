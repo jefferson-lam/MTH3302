{
 "cells": [
  {
   "cell_type": "markdown",
   "metadata": {},
   "source": [
    "# MTH3302 : Méthodes probabilistes et statistiques pour l'I.A.\n",
    "\n",
    "Jonathan Jalbert<br/>\n",
    "Professeur adjoint au Département de mathématiques et de génie industriel<br/>\n",
    "Polytechnique Montréal<br/>\n",
    "\n",
    "# Devoir 7 - Mélange de lois ( 10 points )\n",
    "\n",
    "Le devoir concerne les notions de la régression linéaire bayésienne vues au Chapitre 8 du cours. \n",
    "\n",
    "## Devoir effectué par\n",
    "\n",
    "NOM, PRÉNOM - MATRICULE\n",
    "\n",
    "NOM, PRÉNOM - MATRICULE\n",
    "\n",
    "**Déclaration d’intégrité relative au plagiat**\n",
    "\n",
    "Nous certifions sur l’honneur :\n",
    "- Que les résultats décrits dans ce rapport sont l’aboutissement de notre travail.\n",
    "- Que nous sommes les auteurs de ce rapport.\n",
    "- Que nous n'avons pas utilisé des sources ou résultats tiers sans clairement les citer et les référencer selon les règles bibliographiques préconisées.\n",
    "\n",
    "Nous déclarons que ce travail ne peut être soupçonné de plagiat.\n",
    "\n",
    "## Consignes\n",
    "\n",
    "- Le devoir doit être remis sur Moodle **avant 23h59 le lundi 5 avril 2020.** Les retards ne seront pas tolérés car le solutionnaire sera publié dès mercredi.\n",
    "- Le devoir a une pondération de 7.5%.\n",
    "- Écrivez vos noms et vos matricules dans l'espace prévu à cet effet de cette cellule.\n",
    "- Vous pouvez compléter le devoir en équipe de deux personnes. Dans ce cas, un seul fichier par équipe doit être remis. Pour vous aider à trouver un coéquipier, le canal de discussion *#trouver_un_coéquipier* a été créé sur Slack.\n",
    "- Le devoir doit être complété dans le présent calepin Jupyter en ajoutant autant de cellules de texte et de code que nécessaires. Vous remettrez ce fichier en format *.ipynb*. Le nom du fichier doit être *matricule1_matricule2_devoir2.ipynb*.\n",
    "- N'utilisez que les librairies introduites dans la cellule *Chargement des librairies*.\n",
    "\n",
    "\n",
    "\n",
    "# Estimation d'un mélange de lois exponentielles\n",
    "\n",
    "Récupérez les données *data.csv* sur le répertoire GitHub du devoir. Ces données correspondent à un échantillon aléatoire d'un mélange de deux lois exponentielles :\n",
    "\n",
    "$$ f_{\\{Y|(ω,λ₀,λ₁)\\}}(y) = (1-ω) ~ \\mathcal{E}xp( y \\mid λ₀) + ω ~ \\mathcal{E}xp( y\\mid λ₁) $$\n",
    "\n",
    "\n",
    "## Chargement des librairies"
   ]
  },
  {
   "cell_type": "code",
   "execution_count": null,
   "metadata": {},
   "outputs": [],
   "source": [
    "using CSV, DataFrames, Distributions, Gadfly, Random, Statistics, StatsBase"
   ]
  },
  {
   "cell_type": "markdown",
   "metadata": {},
   "source": [
    "## Chargement des données"
   ]
  },
  {
   "cell_type": "code",
   "execution_count": null,
   "metadata": {},
   "outputs": [],
   "source": [
    "data = CSV.read(\"data.csv\", DataFrame)\n",
    "\n",
    "y = data.Values\n",
    "\n",
    "n = length(y)"
   ]
  },
  {
   "cell_type": "markdown",
   "metadata": {},
   "source": [
    "# Exercice 1 : Estimation des paramètres\n",
    "\n",
    "Estimez les paramètres du mélange de lois exponentielles avec les données fournies à l'aide de la méthode de votre choix pour les modèle à variable manquante (méthode bayésienne ou algorithme EM). Vous pouvez utiliser directement tout ce qui se trouve dans les notes et dans les calepins accompagnants les notes et des TDs.\n",
    "\n",
    "La forme de l'exercice est libre. C'est à vous de développer votre méthode pour estimer les paramètres. Nous devons cependant être en mesure de bien suivre votre développement et de reproduire vos résultats."
   ]
  },
  {
   "cell_type": "code",
   "execution_count": null,
   "metadata": {},
   "outputs": [],
   "source": []
  },
  {
   "cell_type": "markdown",
   "metadata": {},
   "source": [
    "# Exercice 2 : Classification d'une observation\n",
    "\n",
    "Supposons que l'on observe la valeur ỹ = 3. Estimez la probabilité que cette valeur provienne de la deuxième composante, soit $\\mathcal{E}xp( y\\mid λ₁)$.\n",
    "\n",
    "**Note** : Si vous avez choisi l'estimation bayésienne, attention aux estimations ponctuelles des paramètres pour évaluer cette probabilité."
   ]
  },
  {
   "cell_type": "code",
   "execution_count": null,
   "metadata": {},
   "outputs": [],
   "source": []
  }
 ],
 "metadata": {
  "@webio": {
   "lastCommId": null,
   "lastKernelId": null
  },
  "kernelspec": {
   "display_name": "Julia 1.5.3",
   "language": "julia",
   "name": "julia-1.5"
  },
  "language_info": {
   "file_extension": ".jl",
   "mimetype": "application/julia",
   "name": "julia",
   "version": "1.5.3"
  }
 },
 "nbformat": 4,
 "nbformat_minor": 2
}
